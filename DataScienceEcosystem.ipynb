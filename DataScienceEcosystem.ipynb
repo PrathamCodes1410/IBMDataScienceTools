{
 "cells": [
  {
   "cell_type": "markdown",
   "id": "2f2c2eb3-f2be-41d7-b446-6ac90776f5c6",
   "metadata": {},
   "source": [
    "# Data Science Tools and Ecosystem\n"
   ]
  },
  {
   "cell_type": "markdown",
   "id": "1cedb133-f0b0-4910-b641-2d4c44da2571",
   "metadata": {},
   "source": [
    "In this notebook, Data Science Tools and Ecosystem are summarized."
   ]
  },
  {
   "cell_type": "markdown",
   "id": "aca2a9e2-7931-4026-bbbd-f45ce9c7d9cb",
   "metadata": {},
   "source": [
    "Some of the popular languages that Data Scientists use are:\n",
    "1. Python\n",
    "2. R\n",
    "3. Scala"
   ]
  },
  {
   "cell_type": "markdown",
   "id": "1338d0cd-c7bf-4659-86c6-cecfd84a2f19",
   "metadata": {
    "tags": []
   },
   "source": [
    "Some of the commonly used libraries used by Data Scientists include:\n",
    "1. Matplotlib\n",
    "2. Sci-kit Learn\n",
    "3. TensorFlow"
   ]
  },
  {
   "cell_type": "markdown",
   "id": "eed0b873-68f4-436a-ab96-1c6fd92826c0",
   "metadata": {},
   "source": [
    "| Data Science Tools |\n",
    "| ----------- |\n",
    "| Apache Hadoop |\n",
    "| IBM Watson Studio |\n",
    "| Apache Spark |"
   ]
  },
  {
   "cell_type": "markdown",
   "id": "13f4e661-370d-4125-adf5-1679359cd011",
   "metadata": {},
   "source": [
    "### Below are a few examples of evaluating arithmetic expressions in Python\n",
    "\n",
    "eval() function in Python can be used in evaluating arithmatic expression"
   ]
  },
  {
   "cell_type": "code",
   "execution_count": 5,
   "id": "5df37b70-943b-4b80-b1e3-ce678c3f2785",
   "metadata": {
    "tags": []
   },
   "outputs": [
    {
     "name": "stdout",
     "output_type": "stream",
     "text": [
      "15\n",
      "50\n",
      "17\n"
     ]
    }
   ],
   "source": [
    "#This a simple arithmetic expression to mutiply then add integers\n",
    "\n",
    "num1 = 5  # Creating a variable in Python\n",
    "num2 = 10\n",
    "\n",
    "print(num1+num2) # Addition in Python\n",
    "print(num1*num2) # Multiplication in Python\n",
    "\n",
    "print((3*4)+5)"
   ]
  },
  {
   "cell_type": "code",
   "execution_count": 6,
   "id": "4fc9bc68-3795-437a-9308-2e41c551278b",
   "metadata": {
    "tags": []
   },
   "outputs": [
    {
     "name": "stdout",
     "output_type": "stream",
     "text": [
      "3.3333333333333335\n"
     ]
    }
   ],
   "source": [
    "#This will convert 200 minutes to hours by diving by 60\n",
    "\n",
    "minutes = 200\n",
    "\n",
    "print(minutes/60) # convertes minutes to hours by dividing by 60"
   ]
  },
  {
   "cell_type": "markdown",
   "id": "08fc031b-06f4-4363-82a0-f075140fa7b5",
   "metadata": {
    "tags": []
   },
   "source": [
    "**Objectives:**\n",
    "\n",
    "- Recalling List popular languages for Data Science\n",
    "- Recalling List of popular Data Science Tools\n",
    "- Recalling List of popular Data Science Libraries\n",
    "- Recalling Basic Arithmatic Operation in Python"
   ]
  },
  {
   "cell_type": "markdown",
   "id": "3ba47210-f8b7-4781-9088-3d8434a839ea",
   "metadata": {
    "tags": []
   },
   "source": [
    "## Author\n",
    "Pratham Thakkar"
   ]
  }
 ],
 "metadata": {
  "kernelspec": {
   "display_name": "Python 3 (ipykernel)",
   "language": "python",
   "name": "python3"
  },
  "language_info": {
   "codemirror_mode": {
    "name": "ipython",
    "version": 3
   },
   "file_extension": ".py",
   "mimetype": "text/x-python",
   "name": "python",
   "nbconvert_exporter": "python",
   "pygments_lexer": "ipython3",
   "version": "3.10.11"
  }
 },
 "nbformat": 4,
 "nbformat_minor": 5
}
